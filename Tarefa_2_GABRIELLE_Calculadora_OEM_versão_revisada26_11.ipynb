{
  "nbformat": 4,
  "nbformat_minor": 0,
  "metadata": {
    "colab": {
      "name": "Tarefa 2_GABRIELLE-Calculadora OEM-versão revisada26_11.ipynb",
      "provenance": [],
      "collapsed_sections": [],
      "include_colab_link": true
    },
    "kernelspec": {
      "name": "python3",
      "display_name": "Python 3"
    }
  },
  "cells": [
    {
      "cell_type": "markdown",
      "metadata": {
        "id": "view-in-github",
        "colab_type": "text"
      },
      "source": [
        "<a href=\"https://colab.research.google.com/github/Gabriellecss/calculadoraOEM/blob/master/Tarefa_2_GABRIELLE_Calculadora_OEM_vers%C3%A3o_revisada26_11.ipynb\" target=\"_parent\"><img src=\"https://colab.research.google.com/assets/colab-badge.svg\" alt=\"Open In Colab\"/></a>"
      ]
    },
    {
      "cell_type": "markdown",
      "metadata": {
        "id": "-kPmKJurI4d3",
        "colab_type": "text"
      },
      "source": [
        "<p><img alt=\"Uerj logo\" height=120px\" src=\"https://upload.wikimedia.org/wikipedia/commons/e/e7/Logo_uerj.gif\" align=\"left\" hspace=\"10px\" vspace=\"0px\"></p>\n",
        "\n",
        "Universidade do Estado do Rio de Janeiro - FEN <br>\n",
        "Engenharia Elétrica com ênfase em Telecomunicações - UERJ <br>\n",
        "Disciplina: Sistema de Telecomunicações I <br>\n",
        "Semestre de 2019.2<br>\n",
        "Professor: Lisandro Lovisolo & Michel Tcheou\n",
        "\n",
        "#**Tarefa 2 - Calculadora: Permissividade, Permeabilidade e a Condutância do meio**<br>\n",
        "\n",
        "\n",
        "**Aluna: Gabrielle Cristina de Souza Silva** <br>\n",
        "\n"
      ]
    },
    {
      "cell_type": "markdown",
      "metadata": {
        "id": "wzdtUwf2uQo1",
        "colab_type": "text"
      },
      "source": [
        "---\n",
        "**Introdução teórica** <br>\n",
        "\n",
        "●\tPermeabilidade Magnética<br>\n",
        "\n",
        "A indução magnética tem valores que se modificam conforme o meio, é denominada permeabilidade magnética e é adimensional. É denominada pela letra grega µ (mi), dada em Henries por metro (no singular Henrry por metro), ou H/m. Esta é uma grandeza escalar e a indução magnética B, tem proporcionalidade direta com µ, e relacionado com H.<br>\n",
        "Assim:<br>\n",
        "Como é bem conhecido, o negrito indica grandezas vetoriais, e, no caso do vácuo,<br> \n",
        "> $µ = 4{\\pi} ×10^{-7} H/m.$ <br>\n",
        "\n",
        "A permeabilidade do meio comparada à do vácuo, é chamada permeabilidade relativa µr:<br>\n",
        "\n",
        ">$ µ = µr. µ0 $<br>\n",
        "\n",
        "●\tPermissividade Elétrica<br>\n",
        "\n",
        "A permissividade é a propriedade de um material ou meio dielétrico que representa o valor da energia eletrostática que pode ser armazenada por unidade de volume, quando se aplicada uma unidade de tensão elétrica. Por exemplo, é a relação entre a capacitância de um capacitor, quando usa determinado dielétrico e a capacitância do mesmo quando aquele é o vácuo. Os efeitos que o meio exerce sobre o valor do campo elétrico, dependem d a permissividade elétrica. Consequentemente devida a orientação da polarização interna do meio material, o campo resultante internamente é menor do que o existente no vácuo. Quanto maior a permissividade, menor o valor final. No vácuo a permissividade está relacionada com a velocidade da luz e com a permeabilidade magnética, no que resulta:<br>\n",
        " \n",
        "> $ εo= \\frac{1}{µ0.C ^2} = \\frac{10^{-9}}{36\\pi} F/m $<br>\n",
        "\n",
        "Para meios diferentes do ar, deve ser introduzido o fator conhecido como permissividade relativa ou permissividade específica, também conhecidas como constante dielétrica.<br>\n",
        "\n",
        "> $ ε =εr.εo $ <br>\n",
        "\n",
        "●\tCondutividade Elétrica<br>\n",
        "\n",
        "A qualidade de um material para conduzir eletricidade é medida pela intensidade de corrente por unidade de tensão é a condutividade. Esta indica a maior ou menor possibilidade deste de um meio, por exemplo, em permitir o deslocamento de cargas, este depende das suas características intrínsecas. Se condutor perfeito, a condutividade tende ao infinito. Ao contrário, num dielétrico perfeito, a condutividade tende a ser nula. Este parâmetro deve ser considerado em termos de tempo no deslocamento de cargas, comparado ao período do campo eletromagnético aplicado.\n",
        "Assim: <br>\n",
        " > <p><img alt=\"condutividade\" height=120px\" src=\"https://encrypted-tbn0.gstatic.com/images?q=tbn:ANd9GcRBWp2v4jHVV63JtPnncj9pZoInWQHJ7xArA_U4laCLmIK8PdVgKg&s \n",
        "\"></p> <br> \n",
        "\n",
        "O meio pode comportar-se como condutor ou dielétrico, conforme a frequência aplicada. <br>\n",
        "\n",
        "\n",
        "**Descrição da tarefa**\n",
        "\n",
        "●\tA classificação do material em condutor, dielétrico ou quase condutor em função da\n",
        "frequência de forma gráfica (use o eixo horizontal para a frequência);</br>\n",
        "●\tForneça gráficos dos fator de atenuação e do fator de fase em função da frequência;</br>\n",
        "●\tFaça o mesmo para a impedância do meio, a velocidade de propagação, a velocidade\n",
        "de grupo, a velocidade de deslocamento de energia, e a dispersão do meio;</br>\n",
        "●\tTeste esses programas com os dados relevantes de água doce, água salgada, ar e concreto (pesquise suas permeabilidade, permissividades e condutâncias). Use os\n",
        "resultados para analisar esses materiais.</br>\n",
        "●\tCom os dados acima apresenta gráficos da penetração de ondas de 10KHz a 100GHz\n",
        "nesses materiais; neste item considere que a penetração é a distância percorrida pela\n",
        "onda até que o campo elétrico seja reduzido a 0.707 de seu valor.</br>\n",
        "\n",
        "---\n",
        "\n"
      ]
    },
    {
      "cell_type": "markdown",
      "metadata": {
        "id": "YQVmTY0LFSSg",
        "colab_type": "text"
      },
      "source": [
        "#**Desenvolvimento**"
      ]
    },
    {
      "cell_type": "code",
      "metadata": {
        "id": "SOlOYQTmMwFE",
        "colab_type": "code",
        "outputId": "88f44870-ff69-4206-cad0-6263638492f3",
        "colab": {
          "base_uri": "https://localhost:8080/",
          "height": 34
        }
      },
      "source": [
        "!python --version"
      ],
      "execution_count": 1,
      "outputs": [
        {
          "output_type": "stream",
          "text": [
            "Python 3.6.8\n"
          ],
          "name": "stdout"
        }
      ]
    },
    {
      "cell_type": "code",
      "metadata": {
        "id": "CXDtFi0QGi9A",
        "colab_type": "code",
        "outputId": "d1b4edfb-97fb-4e13-fca6-8af5dea2c4ca",
        "colab": {
          "base_uri": "https://localhost:8080/",
          "height": 68
        }
      },
      "source": [
        "!pip install plotly"
      ],
      "execution_count": 2,
      "outputs": [
        {
          "output_type": "stream",
          "text": [
            "Requirement already satisfied: plotly in /usr/local/lib/python3.6/dist-packages (4.1.1)\n",
            "Requirement already satisfied: six in /usr/local/lib/python3.6/dist-packages (from plotly) (1.12.0)\n",
            "Requirement already satisfied: retrying>=1.3.3 in /usr/local/lib/python3.6/dist-packages (from plotly) (1.3.3)\n"
          ],
          "name": "stdout"
        }
      ]
    },
    {
      "cell_type": "code",
      "metadata": {
        "id": "269Fv-4VKtAC",
        "colab_type": "code",
        "outputId": "9559eeaa-539d-42c1-9e53-45f89fb7229d",
        "colab": {
          "base_uri": "https://localhost:8080/",
          "height": 136
        }
      },
      "source": [
        "#Universidade do Estado do Rio de Janeiro - FEN \n",
        "#Engenharia Elétrica com ênfase em Telecomunicações, UERJ\n",
        "#Disciplina: Sistema de Telecomunicações I\n",
        "#Semestre de 2019.2\n",
        "\n",
        "#Tarefa v2.0 - Calculadora: Permissividade, Permeabilidade e a Condutância do meio\n",
        "#Aluna: Gabrielle Cristina de Souza Silva\n",
        "\n",
        "#Siteshttps://www.mathworks.com/help/matlab/ref/linespec.html\n",
        "#https://panda.ime.usp.br/algoritmos/static/algoritmos/10-matplotlib.html\n",
        "\n",
        "#Importação de bibliotecas para a tarefa\n",
        "\n",
        "from math import * # Biblioteca de matemática \n",
        "import pandas as pd\n",
        "import plotly.offline as  py  # Biblioteca de gráficos plotly para melhor interatividade https://paulovasconcellos.com.br/como-criar-gr%C3%A1ficos-interativos-utilizando-plotly-e-python-3eb6eda57a2b\n",
        "import plotly.graph_objs as go\n",
        "import cmath\n",
        "\n",
        "py.init_notebook_mode(connected=True)\n",
        "\n",
        "import numpy as np #biblioteca adicional de graficos\n",
        "import matplotlib.pyplot as plt #Importando função de gráficos e colocando comando como plt (Estilo Matlab) https://www.mathworks.com/help/matlab/ref/subplot.html\n",
        "\n",
        "\n",
        "##Constantes (Permeabilidade e Permissividade)\n",
        "e_0=(10**(-9))/(36*pi)\n",
        "mu_0=4*pi*10**(-7)\n",
        "\n",
        "\n",
        "##Tela de apresentação ###\n",
        "print ('#### TAREFA 02 - CALCULADORA Python v2.0  ####')\n",
        "\n",
        "print('_')\n",
        "print('Valor das constantes:')\n",
        "print(\"Permissividade do meio = %s\" % (e_0))\n",
        "print(\"Permeabilidade do meio = %s\" % (mu_0))\n",
        "print('_')\n",
        "\n",
        "print ('#### Entre com os valores e aguarde os resultados com gráficos #### ')\n",
        "\n"
      ],
      "execution_count": 3,
      "outputs": [
        {
          "output_type": "display_data",
          "data": {
            "text/html": [
              "        <script type=\"text/javascript\">\n",
              "        window.PlotlyConfig = {MathJaxConfig: 'local'};\n",
              "        if (window.MathJax) {MathJax.Hub.Config({SVG: {font: \"STIX-Web\"}});}\n",
              "        if (typeof require !== 'undefined') {\n",
              "        require.undef(\"plotly\");\n",
              "        requirejs.config({\n",
              "            paths: {\n",
              "                'plotly': ['https://cdn.plot.ly/plotly-latest.min']\n",
              "            }\n",
              "        });\n",
              "        require(['plotly'], function(Plotly) {\n",
              "            window._Plotly = Plotly;\n",
              "        });\n",
              "        }\n",
              "        </script>\n",
              "        "
            ]
          },
          "metadata": {
            "tags": []
          }
        },
        {
          "output_type": "stream",
          "text": [
            "#### TAREFA 02 - CALCULADORA Python v2.0  ####\n",
            "_\n",
            "Valor das constantes:\n",
            "Permissividade do meio = 8.841941282883075e-12\n",
            "Permeabilidade do meio = 1.2566370614359173e-06\n",
            "_\n",
            "#### Entre com os valores e aguarde os resultados com gráficos #### \n"
          ],
          "name": "stdout"
        }
      ]
    },
    {
      "cell_type": "markdown",
      "metadata": {
        "id": "QtN8XZXsK4-c",
        "colab_type": "text"
      },
      "source": [
        "#Entrada dos parametros"
      ]
    },
    {
      "cell_type": "code",
      "metadata": {
        "id": "3wjKXjJDLBLD",
        "colab_type": "code",
        "outputId": "76017191-233a-4bec-9fc8-8a9b4f64ea25",
        "colab": {
          "base_uri": "https://localhost:8080/",
          "height": 68
        }
      },
      "source": [
        "###Entrada dos parametros iniciais (Permissividade, Permeabilidade e a Condutância)\n",
        "\n",
        "#Permissividade do meio= sigma\n",
        "#Permeabilidade relativa=m_r\n",
        "#Permesividade relativa= e_r\n",
        "\n",
        "sigma = float(input('Entre com o valor da condutância do meio: '))\n",
        "mu_r = float(input ('Entre com o valor da permeabilidade relativa do meio: '))\n",
        "e_r = float(input ('Entre com o valor da permesividade relativa do meio: '))"
      ],
      "execution_count": 4,
      "outputs": [
        {
          "output_type": "stream",
          "text": [
            "Entre com o valor da condutância do meio: 1\n",
            "Entre com o valor da permeabilidade relativa do meio: 1\n",
            "Entre com o valor da permesividade relativa do meio: 1\n"
          ],
          "name": "stdout"
        }
      ]
    },
    {
      "cell_type": "code",
      "metadata": {
        "id": "w4WpB1w0Dg_l",
        "colab_type": "code",
        "outputId": "75a9c06d-5e0d-4370-dd51-778d58cb023f",
        "colab": {
          "base_uri": "https://localhost:8080/",
          "height": 34
        }
      },
      "source": [
        "type(mu_r)"
      ],
      "execution_count": 5,
      "outputs": [
        {
          "output_type": "execute_result",
          "data": {
            "text/plain": [
              "float"
            ]
          },
          "metadata": {
            "tags": []
          },
          "execution_count": 5
        }
      ]
    },
    {
      "cell_type": "markdown",
      "metadata": {
        "id": "Y24mTzp3vdru",
        "colab_type": "text"
      },
      "source": [
        "#Calculos e Gráficos"
      ]
    },
    {
      "cell_type": "code",
      "metadata": {
        "id": "PgLjPEcbhuGF",
        "colab_type": "code",
        "outputId": "0d7027bf-0a56-452f-8275-f6bec6568e9b",
        "colab": {
          "base_uri": "https://localhost:8080/",
          "height": 102
        }
      },
      "source": [
        "## Calculo da permeabilidade e permisividade do meio;\n",
        "\n",
        "mu=mu_r*mu_0\n",
        "e=(e_r*e_0)\n",
        "\n",
        "## Calculo do material condutor, quase condutor e dieletrico em forma de gráfico\n",
        "#f_0 = frequencia de corte\n",
        "\n",
        "f_0=(sigma/(2*pi*e))\n",
        "\n",
        "#frequencia de corte meio condutor \n",
        "f_max=f_0/100\n",
        "\n",
        "#frequencia de corte do meio dieletrico\n",
        "f_min=f_0*100\n",
        "\n",
        "print('_')\n",
        "\n",
        "#frequencia do corte do meio quase condutor\n",
        "print('frequencia de corte inferior')\n",
        "print(f_0/100);\n",
        "print('frequencia de corte superior')\n",
        "print(f_0*100);\n"
      ],
      "execution_count": 6,
      "outputs": [
        {
          "output_type": "stream",
          "text": [
            "_\n",
            "frequencia de corte inferior\n",
            "180000000.0\n",
            "frequencia de corte superior\n",
            "1800000000000.0\n"
          ],
          "name": "stdout"
        }
      ]
    },
    {
      "cell_type": "code",
      "metadata": {
        "id": "4AvvTW6vTc-g",
        "colab_type": "code",
        "outputId": "3e22a86e-8607-467b-8316-ff8279e443c2",
        "colab": {
          "base_uri": "https://localhost:8080/",
          "height": 379
        }
      },
      "source": [
        "###Intervalo dos Graficos de frequencias\n",
        "\n",
        "#Faixa de frequencia\n",
        "fx=np.linspace(0,f_min,num=100) #Intervalo de valor de X\n",
        "fy=np.linspace(1,1,num=100) #Intervalo de valor de Y\n",
        "\n",
        "#Faixa de frequência para meio quase condutor f0/100<f<100f0\n",
        "z=f_min\n",
        "fx2=np.linspace(z,f_max,num=100)\n",
        "fy2=np.linspace(1,1,num=100)\n",
        "\n",
        "#Faixa de frequência para meio dielétrico f>=100*f0\n",
        "fx3 = np.linspace(f_max,1.5*f_max,num=200)\n",
        "fy3 = np.linspace(2,2,num=200)\n",
        "\n",
        "\n",
        "# GRÁFICO MEIO CONDUTOR\n",
        "plt.figure(1) # 1-Separação de graficos\n",
        "plt.subplot(3,1,1) # Cria a área do primeiro gráfico\n",
        "plt.title(\"Classificação do Meio Graficamente\") #Título do gráfico\n",
        "plt.xlabel(\"Frequência (Hz)\") #Rótulo do eixo X\n",
        "plt.ylabel(\"Material\") #Rótulo do eixo Y\n",
        "plt.grid(True) #Ativação das grades do gráfico\n",
        "plt.plot(fx,fy,'r-',label=\"Meio Condutor\") #Plotagem do gráfico\n",
        "plt.legend(loc='best') #Legenda em melhor posição\n",
        "\n",
        "# GRÁFICO MEIO QUASE CONDUTOR\n",
        "plt.figure(2) #2-Separação de graficos\n",
        "plt.subplot(3,1,2) # Cria a área do segundo gráfico\n",
        "plt.grid(True) #Ativação das grades do gráfico\n",
        "plt.xlabel(\"Frequência (Hz)\") #Rótulo do eixo X\n",
        "plt.ylabel(\"Material\") #Rótulo do eixo Y\n",
        "plt.plot(fx2,fy2,'b-',label=\"Meio Quase Condutor\") #Plotagem do gráfico\n",
        "plt.legend(loc='best') # Legenda em melhor posição\n",
        "\n",
        "# GRÁFICO MEIO DIELÉTRICO\n",
        "plt.figure(3) #3-Separação de graficos\n",
        "plt.subplot(3,1,3) # Cria a área do segundo gráfico\n",
        "plt.grid(True) #Ativação das grades do gráfico\n",
        "plt.xlabel(\"Frequência (Hz)\") #Rótulo do eixo X\n",
        "plt.ylabel(\"Material\") #Rótulo do eixo Y\n",
        "#plt.xscale('log') # incluir escala de log no eixo X\n",
        "#plt.yscale('log') # incluir escala de log no eixo y\n",
        "plt.plot(fx3,fy3,'g-',label=\"Meio Dielétrico\") #Plotagem do gráfico\n",
        "plt.legend(loc='best') # Legenda em melhor posição"
      ],
      "execution_count": 7,
      "outputs": [
        {
          "output_type": "execute_result",
          "data": {
            "text/plain": [
              "<matplotlib.legend.Legend at 0x7f8cc3c50ba8>"
            ]
          },
          "metadata": {
            "tags": []
          },
          "execution_count": 7
        },
        {
          "output_type": "display_data",
          "data": {
            "image/png": "[encoded data removed]",
            "text/plain": [
              "<Figure size 432x288 with 1 Axes>"
            ]
          },
          "metadata": {
            "tags": []
          }
        },
        {
          "output_type": "display_data",
          "data": {
            "image/png": "[encoded data removed]",
            "text/plain": [
              "<Figure size 432x288 with 1 Axes>"
            ]
          },
          "metadata": {
            "tags": []
          }
        },
        {
          "output_type": "display_data",
          "data": {
            "image/png": "[encoded data removed]",
            "text/plain": [
              "<Figure size 432x288 with 1 Axes>"
            ]
          },
          "metadata": {
            "tags": []
          }
        }
      ]
    },
    {
      "cell_type": "code",
      "metadata": {
        "id": "XsIbm4LvV-9Y",
        "colab_type": "code",
        "outputId": "e876b6ff-e8e5-4bf5-aa72-2eb667a8e9cb",
        "colab": {
          "base_uri": "https://localhost:8080/",
          "height": 1000
        }
      },
      "source": [
        "## Calculo do Gamma \n",
        "\n",
        "lalfa=[]#lista para armazenar dados para plotar o grafico\n",
        "lbeta=[]#lista para armazenar dados para plotar o grafico\n",
        "vetor_f = [] #lista para armazenar dados para plotar o grafico\n",
        "\n",
        "i=1\n",
        "while i <= pow(10, 6): #precisa da funcao 'pow(x,y)', se escrever 10^6 ele entende que é 12, e nao 1000000\n",
        "    vetor_f.append(i) #aumentando o tamanho do vetor com cada valor de 'i'\n",
        "    i = i + pow(10, 3) #incrementando o loop como deve ser, de 10^3 em 10^3\n",
        "\n",
        "#Aqui entra o loop seguinte que usa o valor que esta em cada posicao do vetor f\n",
        "\n",
        "for f in vetor_f: \n",
        "#for f in range(1,10**3,10**6): \n",
        "  gamma=(cmath.sqrt(1j*2*pi*f*mu*(sigma+1j*2*pi*f*e)))\n",
        "  alfa=gamma.real\n",
        "  beta=gamma.imag\n",
        "  lalfa.append(alfa)\n",
        "  lbeta.append(beta)\n",
        "#print(lalfa) # testar armazenamento da matriz resultante final- grafico\n",
        "\n",
        "#GRAFICO do fator de atenuação x Frequencia\n",
        "plt.figure(4) #4-Separação de graficos\n",
        "plt.subplot(2,1,1)\n",
        "plt.plot(vetor_f,lalfa,'b-',)\n",
        "plt.title('Fator de Atenuação')\n",
        "plt.grid(True) #Ativação das grades do gráfico\n",
        "plt.xlabel('Frequencia (Hz)');\n",
        "\n",
        "#GRAFICO do fator de fase x Frequencia\n",
        "plt.figure(5) #5-Separação de graficos\n",
        "plt.subplot(2,1,1)\n",
        "#plt.xscale('log') # incluir escala de log no eixo X\n",
        "plt.plot(vetor_f,lbeta,'g-')\n",
        "plt.title('Fator de Fase')\n",
        "plt.grid(True) #Ativação das grades do gráfico\n",
        "plt.xlabel('Frequencia (Hz)')\n",
        "\n",
        "############################################################################\n",
        "\n",
        "###Calculo da Impedância Intrinseca \n",
        "lene=[]#lista para armazenar dados para plotar o grafico\n",
        "\n",
        "for f in vetor_f: \n",
        "#for f in range(1,10**3,10**6): \n",
        "  ene0=(cmath.sqrt(1j*2*pi*f*mu)/(sigma+1j*2*pi*f*e))\n",
        "  ene=abs(ene0) \n",
        "  lene.append(ene)\n",
        "#print(lene) # testar armazenamento da matriz resultante final- grafico\n",
        "\n",
        "#GRAFICO da Impedância Intrinseca x Frequencia\n",
        "plt.figure(6) #6-Separação de graficos\n",
        "plt.subplot(1,1,1)\n",
        "plt.plot(vetor_f,lene,'b-')\n",
        "plt.title('Impedância Intrinseca')\n",
        "plt.grid(True) #Ativação das grades do gráfico\n",
        "plt.xlabel('Frequencia (Hz)');\n",
        "plt.ylabel ('R(Ohms)')\n",
        "\n",
        "############################################################################\n",
        "\n",
        "## Calculo da Velocidade de Fase\n",
        "\n",
        "lVp=[] #lista para armazenar dados para plotar o grafico\n",
        "\n",
        "for f in vetor_f: \n",
        "  gamma=(cmath.sqrt(1j*2*pi*f*mu*(sigma+1j*2*pi*f*e)))\n",
        "  beta=gamma.imag\n",
        "  Vp= 2*pi*f/beta\n",
        "  lVp.append(Vp)\n",
        "#print(lVp) # testar armazenamento da matriz resultante final- grafico\n",
        "\n",
        "##GRAFICO da velocidade de fase x Frequencia\n",
        "plt.figure(7) #7-Separação de graficos\n",
        "plt.plot (vetor_f, lVp,'b-')\n",
        "plt.title('Velocidade de Fase')\n",
        "plt.grid(True) #Ativação das grades do gráfico\n",
        "plt.xlabel( 'Frequencia (Hz)')\n",
        "plt.ylabel ('Velocidade de fase(m/s)')\n",
        "\n",
        "############################################################################\n",
        "\n",
        "## Calculo da Velocidade de deslocamento   \n",
        "lVe=[] #lista para armazenar dados para plotar o grafico\n",
        "\n",
        " #ang = atand(diff(imag(cv))./diff(real(cv)))\n",
        "\n",
        "for f in vetor_f: \n",
        "  ene0=(cmath.sqrt(1j*2*pi*f*mu)/(sigma+1j*2*pi*f*e))\n",
        "  ang=cmath.phase(ene0)\n",
        "  #ang=np.angle(ene0)\n",
        "  Ve = ((2*cos(ang))/(e*(abs(ene0))+(mu/(abs(ene0)))))\n",
        "  lVe.append(Ve)\n",
        "print(ang) # testar armazenamento da matriz resultante final- grafico\n",
        "\n",
        "##Grafico da Velocidade de deslocamento x Frequencia\n",
        "plt.figure(8) \n",
        "plt.plot(vetor_f, lVe,'b-')\n",
        "plt.title('Velocidade de Deslocamento')\n",
        "plt.grid(True) #Ativação das grades do gráfico\n",
        "#plt.xscale('log') #Colocando o eixo X da frequência em escala de log\n",
        "plt.xlabel('Frequencia (Hz)')\n",
        "plt.ylabel ('Velocidade de deslocamento (m/s)')\n",
        "\n",
        "############################################################################\n",
        "\n",
        "## Calculo da Velocidade de Grupo\n",
        "\n",
        "lVg=[] #lista para armazenar dados para plotar o grafico\n",
        "\n",
        "for f in vetor_f: \n",
        " gamma=(cmath.sqrt(1j*2*pi*f*mu*(sigma+1j*2*pi*f*e)))\n",
        " Vg= (2*gamma)/((-4)*pi*f*mu*e+1j*mu*sigma)\n",
        " lVg.append(Vg.imag)\n",
        "#print(lVg) # testar armazenamento da matriz resultante final- grafico\n",
        "\n",
        "## Grafico da Velocidade de Grupo x Frequencia\n",
        "plt.figure(9)\n",
        "plt.plot(vetor_f, lVg,'b-')\n",
        "plt.title ('Velocidade de Grupo')\n",
        "plt.grid(True) #Ativação das grades do gráfico\n",
        "plt.xscale('log') #Colocando o eixo X da frequência em escala de log\n",
        "plt.xlabel( 'Frequencia(Hz)')\n",
        "plt.ylabel ('Velocidade de grupo(m/s)')\n",
        "\n",
        "############################################################################\n",
        "\n",
        "## Calculo da Dispersao do meio\n",
        "\n",
        "lvg=[]\n",
        "lvp=[]\n",
        "lDm=[]\n",
        "\n",
        "for f in vetor_f: \n",
        "  gamma=(cmath.sqrt(1j*2*pi*f*mu*(sigma+1j*2*pi*f*e)))\n",
        "  Vg1= ((2*gamma)/(-4)*pi*f*mu*e+i*mu*sigma)\n",
        "  Vg=Vg1.imag\n",
        "  #lVg.append(Vg)\n",
        "  beta=gamma.imag\n",
        "  Vp= (2*pi*f)/beta\n",
        "  #lVp.append(Vp)\n",
        "  Dm= Vp/Vg\n",
        "  lDm.append(Dm)\n",
        "\n",
        "## Grafico da Dispersao do meio x Frequencia\n",
        "plt.figure(10)\n",
        "plt.semilogx(vetor_f, lDm, 'b*-.') ########TESTE!!!!\n",
        "plt.xscale('log') # incluir escala de log no eixo X\n",
        "plt.grid(True) #Ativação das grades do gráfico\n",
        "plt.title ('Dispersao do Meio')\n",
        "plt.xlabel( 'Frequencia (Hz)')\n",
        "plt.ylabel('Dispersao do Meio')\n",
        "\n",
        "\n",
        "############################################################################\n",
        "\n",
        "## Calculo da Penetracao da onda\n",
        "vetor_f=[]\n",
        "lqsi=[]\n",
        "i=1\n",
        "while i <= pow(10, 8): #precisa da funcao 'pow(x,y)', se escrever 10^6 ele entende que é 12, e nao 1000000\n",
        "    vetor_f.append(i) #aumentando o tamanho do vetor com cada valor de 'i'\n",
        "    i = i + pow(10, 3) #incrementando o loop como deve ser, de 10^3 em 10^3\n",
        "\n",
        "#Aqui entra o loop seguinte que usa o valor que esta em cada posicao do vetor f\n",
        "\n",
        "\n",
        "#Aqui entra o loop seguinte que usa o valor que esta em cada posicao do vetor f\n",
        "\n",
        "for f in vetor_f: \n",
        "#for f2 = 10^4:1000:10^8; -------------------------------------------------------TIRAR\n",
        "  gamma=(cmath.sqrt(1j*2*pi*f*mu*(sigma+1j*2*pi*f*e)))\n",
        "  qsi= -log(0.707)/(gamma.real)\n",
        "  lqsi.append(qsi)\n",
        "#print(lqsi) # testar armazenamento da matriz resultante final- grafico\n",
        "\n",
        "\n",
        "## Grafico da Penetracao da onda x Frequencia\n",
        "plt.figure(11)\n",
        "plt.plot(vetor_f,lqsi,'b-')\n",
        "plt.grid(True) #Ativação das grades do gráfico\n",
        "plt.xscale('log') # incluir escala de log no eixo X\n",
        "plt.title ('Penetracao da onda')\n",
        "plt.xlabel( 'Freqnecia(Hz)')\n",
        "plt.ylabel ('Distancia(m)')\n",
        "#plt.xlim([10**4,10**11])\n",
        "\n",
        "############################################################################\n",
        "\n"
      ],
      "execution_count": 20,
      "outputs": [
        {
          "output_type": "stream",
          "text": [
            "0.7853426633419498\n"
          ],
          "name": "stdout"
        },
        {
          "output_type": "execute_result",
          "data": {
            "text/plain": [
              "Text(0, 0.5, 'Distancia(m)')"
            ]
          },
          "metadata": {
            "tags": []
          },
          "execution_count": 20
        },
        {
          "output_type": "display_data",
          "data": {
            "image/png": "[encoded data removed]",
            "text/plain": [
              "<Figure size 432x288 with 1 Axes>"
            ]
          },
          "metadata": {
            "tags": []
          }
        },
        {
          "output_type": "display_data",
          "data": {
            "image/png": "[encoded data removed]",
            "text/plain": [
              "<Figure size 432x288 with 1 Axes>"
            ]
          },
          "metadata": {
            "tags": []
          }
        },
        {
          "output_type": "display_data",
          "data": {
            "image/png": "[encoded data removed]",
            "text/plain": [
              "<Figure size 432x288 with 1 Axes>"
            ]
          },
          "metadata": {
            "tags": []
          }
        },
        {
          "output_type": "display_data",
          "data": {
            "image/png": "[encoded data removed]",
            "text/plain": [
              "<Figure size 432x288 with 1 Axes>"
            ]
          },
          "metadata": {
            "tags": []
          }
        },
        {
          "output_type": "display_data",
          "data": {
            "image/png": "[encoded data removed]",
            "text/plain": [
              "<Figure size 432x288 with 1 Axes>"
            ]
          },
          "metadata": {
            "tags": []
          }
        },
        {
          "output_type": "display_data",
          "data": {
            "image/png": "[encoded data removed]",
            "text/plain": [
              "<Figure size 432x288 with 1 Axes>"
            ]
          },
          "metadata": {
            "tags": []
          }
        },
        {
          "output_type": "display_data",
          "data": {
            "image/png": "[encoded data removed]",
            "text/plain": [
              "<Figure size 432x288 with 1 Axes>"
            ]
          },
          "metadata": {
            "tags": []
          }
        },
        {
          "output_type": "display_data",
          "data": {
            "image/png": "[encoded data removed]",
            "text/plain": [
              "<Figure size 432x288 with 1 Axes>"
            ]
          },
          "metadata": {
            "tags": []
          }
        }
      ]
    },
    {
      "cell_type": "code",
      "metadata": {
        "id": "vrFPECDiCy0t",
        "colab_type": "code",
        "colab": {}
      },
      "source": [
        ""
      ],
      "execution_count": 0,
      "outputs": []
    },
    {
      "cell_type": "code",
      "metadata": {
        "id": "crEj4MLKOlF6",
        "colab_type": "code",
        "colab": {}
      },
      "source": [
        "####EXEMPLO DO LEO ####\n",
        "\n",
        "## Calculo do Gamma \n",
        "\n",
        "plt.figure(4) #4 - Separação grafico\n",
        "a=np.linspace(0,1.5*fmax,num=200)\n",
        "fa=[((2*pi*freq)(sqrt((pb*pv/2)(sqrt(1+(cd/(2*pi*freq*pv))**2)-1)))) for freq in a]\n",
        "plt.title(\"Fator de Atenuação vs Frequência\") #Título do gráfico\n",
        "plt.xlabel(\"Frequência\") #Rótulo do eixo X\n",
        "plt.ylabel(\"Fator de Atenuação\") #Rótulo do eixo Y\n",
        "plt.grid(True) #Ativação das grades do gráfico\n",
        "plt.plot(a,fa,'r-',label=\"Curva de Valores\") #Plotagem do gráfico\n",
        "plt.legend(loc=8) #Legenda\n",
        "\n",
        "\n",
        "for f = 1:10^3:10^6\n",
        "   gamma=sqrt(i*2*pi*f*mu*(sigma+i*2*pi*f*epsilon));\n",
        "   alfa(f)=real(gamma);\n",
        "   beta(f)=imag(gamma);\n",
        "end\n",
        "f = 1:10^3:10^6;\n",
        "% Plote do fator de atenuação x Frequencia\n",
        "subplot(1,2,1);\n",
        "plot(f, alfa(f), 'LineWidth' , 2);\n",
        "title( 'Fator de Atenuação' );\n",
        "grid on\n",
        "xlabel( 'Hz' );\n",
        "% Plote do fator de fase x Frequencia\n",
        "subplot(1,2,2)\n",
        "plot(f, beta(f), 'LineWidth' , 2)\n",
        "title( 'Fator de Fase' );\n",
        "grid on\n",
        "xlabel( 'Hz' );"
      ],
      "execution_count": 0,
      "outputs": []
    },
    {
      "cell_type": "code",
      "metadata": {
        "id": "FrH5MntWqHfz",
        "colab_type": "code",
        "colab": {}
      },
      "source": [
        "\n",
        "'''\n",
        "#vetor f a ser preenchido de 1 até 10^6, somando 10^3 a cada passo do loop\n",
        "vetor_f = []\n",
        "i=1\n",
        "while i <= pow(10, 6): #precisa da funcao 'pow(x,y)', se escrever 10^6 ele entende que é 12, e nao 1000000\n",
        "    vetor_f.append(i) #aumentando o tamanho do vetor com cada valor de 'i'\n",
        "    i = i + pow(10, 3) #incrementando o loop como deve ser, de 10^3 em 10^3\n",
        "\n",
        "#aqui entra o loop seguinte que usa o valor que esta em cada posicao do vetor f\n",
        "\n",
        "for f in vetor_f: \n",
        "  gamma=(cmath.sqrt(1j*2*pi*f*mu*(sigma+1j*2*pi*f*e)))\n",
        "  alfa=gamma.real\n",
        "  beta=gamma.imag\n",
        "  lalfa.append(alfa)\n",
        "  lbeta.append(beta)\n",
        "\n",
        "\n",
        "#exemplo Joao\n",
        "\n",
        "#vetor f a ser preenchido de 1 até 10^6, somando 10^3 a cada passo do loop\n",
        "f = []\n",
        "i=1\n",
        "while i <= pow(10, 6): #precisa da funcao 'pow(x,y)', se escrever 10^6 ele entende que é 12, e nao 1000000\n",
        "    f.append(i) #aumentando o tamanho do vetor com cada valor de 'i'\n",
        "    i = i + pow(10, 3) #incrementando o loop como deve ser, de 10^3 em 10^3\n",
        "\n",
        "#aqui entra o loop seguinte que usa o valor que esta em cada posicao do vetor f\n",
        "for i in f:\n",
        "    print(i)\n",
        "\n",
        "  '''"
      ],
      "execution_count": 0,
      "outputs": []
    },
    {
      "cell_type": "code",
      "metadata": {
        "id": "hgvZ11hclDRB",
        "colab_type": "code",
        "colab": {}
      },
      "source": [
        "\n"
      ],
      "execution_count": 0,
      "outputs": []
    },
    {
      "cell_type": "code",
      "metadata": {
        "id": "OWjgS9LJhkXj",
        "colab_type": "code",
        "colab": {}
      },
      "source": [
        "## Calculo do Gamma \n",
        "\n",
        "range (1,10**3,10**6)\n",
        "\n",
        "f = 1:10^3:10^6\n",
        "   gamma=sqrt(i*2*pi*f*mu*(sigma+i*2*pi*f*e));\n",
        "   alfa(f)=real(gamma);\n",
        "   beta(f)=imag(gamma);\n",
        "end\n",
        "f = 1:10^3:10^6;\n",
        "\n",
        "## Grafico do fator de atenuacao x frequencia\n",
        "subplot(1,2,1);\n",
        "plot(f, alfa(f), 'LineWidth' , 2);%%% era 2\n",
        "title( 'Fator de Atenuacao' );\n",
        "grid on\n",
        "xlabel( 'Hz' );\n",
        "\n",
        "## Grafico do fator de fase x Frequencia\n",
        "subplot(1,2,2)\n",
        "plot(f, beta(f), 'LineWidth' , 2) %%% era 2\n",
        "title( 'Fator de Fase' );\n",
        "grid on\n",
        "xlabel( 'Hz' );\n",
        "\n",
        "## Calculo da Impedencia Intrinseca \n",
        "for f=[1:10^3:10^6]\n",
        "ene_0(f)= sqrt((i*2*pi*f*mu)/(sigma+i*2*pi*f*e));\n",
        "ene(f)=abs(ene_0(f));\n",
        "end\n",
        "f=[1:10^3:10^6];\n",
        "\n",
        "## Grafico da Impedencia Intrinseca x Frequencia\n",
        "figure, plot(f, ene(f), 'LineWidth' , 2)\n",
        "title('Impedancia Intrinseca')\n",
        "xlabel( 'f(Hz)')\n",
        "ylabel ('R(Ohms)')\n",
        "grid on\n",
        "\n",
        "## Calculo da Velocidade de Fase\n",
        "for f=1:10^3:10^6\n",
        "gamma = sqrt(i*2*pi*f*mu*(sigma+i*2*pi*f*e));\n",
        "beta(f) = imag(gamma);\n",
        "Vp(f) = 2*pi*f/beta(f);\n",
        "end\n",
        "f=[1:10^3:10^6];\n",
        "\n",
        "##Grafico da velocidade de fase x Frequencia\n",
        "figure, plot (f, Vp(f),  'LineWidth' , 2)\n",
        "title('Velocidade de Fase')\n",
        "xlabel( 'f(Hz)')\n",
        "ylabel ('Vp(m/s)')\n",
        "grid on\n",
        "\n",
        "## Calculo da Velocidade de deslocamento   \n",
        "for f = 1:10^3:10^6\n",
        "ene_0(f) = sqrt((i*2*pi*f*mu)/(sigma+i*2*pi*f*e));\n",
        "ang(f) = angle(ene_0(f));\n",
        "Ve(f) = 2*cos(ang(f))/(e*abs(ene_0(f))+mu/abs(ene_0(f)));\n",
        "end\n",
        "f=[1:10^3:10^6];\n",
        "\n",
        "##Grafico da Velocidade de deslocamento x Frequencia\n",
        "figure, plot(f, Ve(f), 'LineWidth' , 2);\n",
        "title('Velocidade de Deslocamento')\n",
        "xlabel( 'f(Hz)')\n",
        "ylabel ('Ve(m/s)')\n",
        "grid on\n",
        "\n",
        "## Calculo da Velocidade de Grupo\n",
        " for f = 1:10^3:10^6\n",
        " gamma = sqrt(i*2*pi*f*mu*(sigma+i*2*pi*f*e));\n",
        " Vg(f) = imag((2*gamma)/(-4)*pi*f*mu*e+i*mu*sigma);\n",
        " end\n",
        "f = 1:10^3:10^6;\n",
        "\n",
        "## Grafico da Velocidade de Grupo x Frequencia\n",
        "figure, plot(f, Vg(f), 'LineWidth' , 2)\n",
        "title ('Velocidade de Grupo')\n",
        "xlabel( 'f(Hz)')\n",
        "ylabel ('Vg(m/s)')\n",
        "grid on\n",
        "\n",
        "## Calculo da Dispersao do meio\n",
        " for f = 1:10^3:10^6\n",
        " gamma = sqrt(i*2*pi*f*mu*(sigma+i*2*pi*f*e));\n",
        " Vg(f) = imag((2*gamma)/(-4)*pi*f*mu*e+i*mu*sigma);\n",
        " beta(f) = imag(gamma);\n",
        " Vp(f) = 2*pi*(f)/beta(f);\n",
        " Dm(f) = Vp(f)/Vg(f);\n",
        " end\n",
        "Dm(f) = Vp(f)/Vg(f);\n",
        "f = 1:10^3:10^6;\n",
        "\n",
        "## Grafico da Dispersao do meio x Frequencia\n",
        "figure, semilogx(f, Dm(f),  'LineWidth' , 2);\n",
        "grid on\n",
        "title ('Dispersao do Meio')\n",
        "xlabel( 'f(Hz)')\n",
        "\n",
        "\n",
        "## Calculo da Penetracao da onda\n",
        "for f = 10^4:1000:10^8;\n",
        "gamma = sqrt(i*2*pi*f*mu*(sigma+i*2*pi*f*e));\n",
        "qsi(f) = -log(0.707)/(real(gamma));\n",
        "end\n",
        "f = 10^4:1000:10^8;\n",
        "\n",
        "## Grafico da Penetracao da onda x Frequencia\n",
        "figure, semilogx(f, qsi(f))\n",
        "title ('Penetracao da onda')\n",
        "xlabel( 'f(Hz)')\n",
        "ylabel ('Distancia(m)')\n",
        "xlim( [ 10^4 10^11 ] )\n",
        "grid on\n",
        "\n",
        "###Fim. :D "
      ],
      "execution_count": 0,
      "outputs": []
    },
    {
      "cell_type": "markdown",
      "metadata": {
        "id": "4-pKOgZYI8pb",
        "colab_type": "text"
      },
      "source": [
        "> Novembro/2019 <br>\n",
        "\n",
        "---\n",
        "> *Desenvolvido no Colab GOOGLE* <br> por **Gabrielle Cristina de Souza Silva** <br>\n",
        "\n",
        "\n"
      ]
    }
  ]
}