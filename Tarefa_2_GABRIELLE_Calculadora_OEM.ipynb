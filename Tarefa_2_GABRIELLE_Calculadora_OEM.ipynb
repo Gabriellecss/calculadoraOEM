{
  "nbformat": 4,
  "nbformat_minor": 0,
  "metadata": {
    "colab": {
      "name": "Tarefa 2_GABRIELLE-Calculadora OEM.ipynb",
      "provenance": [],
      "collapsed_sections": [],
      "include_colab_link": true
    },
    "kernelspec": {
      "name": "python3",
      "display_name": "Python 3"
    }
  },
  "cells": [
    {
      "cell_type": "markdown",
      "metadata": {
        "id": "view-in-github",
        "colab_type": "text"
      },
      "source": [
        "<a href=\"https://colab.research.google.com/github/Gabriellecss/calculadoraOEM/blob/master/Tarefa_2_GABRIELLE_Calculadora_OEM.ipynb\" target=\"_parent\"><img src=\"https://colab.research.google.com/assets/colab-badge.svg\" alt=\"Open In Colab\"/></a>"
      ]
    },
    {
      "cell_type": "markdown",
      "metadata": {
        "id": "-kPmKJurI4d3",
        "colab_type": "text"
      },
      "source": [
        "<p><img alt=\"Uerj logo\" height=120px\" src=\"https://upload.wikimedia.org/wikipedia/commons/e/e7/Logo_uerj.gif\" align=\"left\" hspace=\"10px\" vspace=\"0px\"></p>\n",
        "\n",
        "Universidade do Estado do Rio de Janeiro - FEN <br>\n",
        "Engenharia Elétrica com ênfase em Telecomunicações - UERJ <br>\n",
        "Disciplina: Sistema de Telecomunicações I <br>\n",
        "Semestre de 2019.2<br>\n",
        "Professor: Lisandro Lovisolo & Michel Tcheou\n",
        "\n",
        "#Tarefa 2 - Calculadora: Permissividade, Permeabilidade e a Condutância do meio<br>\n",
        "\n",
        "\n",
        "Aluna: Gabrielle Cristina de Souza Silva<br>\n"
      ]
    },
    {
      "cell_type": "markdown",
      "metadata": {
        "id": "wzdtUwf2uQo1",
        "colab_type": "text"
      },
      "source": [
        "Descrição da tarefa\n"
      ]
    },
    {
      "cell_type": "code",
      "metadata": {
        "id": "SOlOYQTmMwFE",
        "colab_type": "code",
        "outputId": "d7e3161c-a3b3-4e06-ae00-7f8e39d9f4f5",
        "colab": {
          "base_uri": "https://localhost:8080/",
          "height": 35
        }
      },
      "source": [
        "!python --version"
      ],
      "execution_count": 0,
      "outputs": [
        {
          "output_type": "stream",
          "text": [
            "Python 3.6.8\n"
          ],
          "name": "stdout"
        }
      ]
    },
    {
      "cell_type": "code",
      "metadata": {
        "id": "CXDtFi0QGi9A",
        "colab_type": "code",
        "outputId": "bab10a72-09bb-4b41-d0d1-5e246c7ff47c",
        "colab": {
          "base_uri": "https://localhost:8080/",
          "height": 72
        }
      },
      "source": [
        "!pip install plotly"
      ],
      "execution_count": 0,
      "outputs": [
        {
          "output_type": "stream",
          "text": [
            "Requirement already satisfied: plotly in /usr/local/lib/python3.6/dist-packages (4.1.1)\n",
            "Requirement already satisfied: six in /usr/local/lib/python3.6/dist-packages (from plotly) (1.12.0)\n",
            "Requirement already satisfied: retrying>=1.3.3 in /usr/local/lib/python3.6/dist-packages (from plotly) (1.3.3)\n"
          ],
          "name": "stdout"
        }
      ]
    },
    {
      "cell_type": "code",
      "metadata": {
        "id": "269Fv-4VKtAC",
        "colab_type": "code",
        "outputId": "f71a7a66-739c-4817-b616-92f491eed867",
        "colab": {
          "base_uri": "https://localhost:8080/",
          "height": 145
        }
      },
      "source": [
        "#Universidade do Estado do Rio de Janeiro - FEN \n",
        "#Engenharia Elétrica com ênfase em Telecomunicações, UERJ\n",
        "#Disciplina: Sistema de Telecomunicações I\n",
        "#Semestre de 2019.2\n",
        "\n",
        "#Tarefa v2.0 - Calculadora: Permissividade, Permeabilidade e a Condutância do meio\n",
        "#Aluna: Gabrielle Cristina de Souza Silva\n",
        "\n",
        "#Sites\n",
        "#https://panda.ime.usp.br/algoritmos/static/algoritmos/10-matplotlib.html\n",
        "\n",
        "#Importação de bibliotecas para a tarefa\n",
        "\n",
        "from math import * # Biblioteca de matemática \n",
        "import pandas as pd\n",
        "import plotly.offline as  py  # Biblioteca de gráficos plotly para melhor interatividade https://paulovasconcellos.com.br/como-criar-gr%C3%A1ficos-interativos-utilizando-plotly-e-python-3eb6eda57a2b\n",
        "import plotly.graph_objs as go\n",
        "\n",
        "py.init_notebook_mode(connected=True)\n",
        "\n",
        "import numpy as np #biblioteca adicional de graficos\n",
        "import matplotlib.pyplot as plt #Importando função de gráficos e colocando comando como plt (Estilo Matlab) https://www.mathworks.com/help/matlab/ref/subplot.html\n",
        "\n",
        "\n",
        "##Constantes (Permeabilidade e Permissividade)\n",
        "e_0=(10**(-9))/(36*pi)\n",
        "mu_0=4*pi*10**(-7)\n",
        "\n",
        "\n",
        "##Tela de apresentação ###\n",
        "print ('#### TAREFA 02 - CALCULADORA Python v2.0  ####')\n",
        "print ('#### Entre com os valores e aguarde os resultados com gráficos #### ')\n",
        "\n",
        "print ('_')\n",
        "print('Constantes:')\n",
        "print (e_0)\n",
        "print(mu_0)\n",
        "print ('_')\n"
      ],
      "execution_count": 0,
      "outputs": [
        {
          "output_type": "display_data",
          "data": {
            "text/html": [
              "        <script type=\"text/javascript\">\n",
              "        window.PlotlyConfig = {MathJaxConfig: 'local'};\n",
              "        if (window.MathJax) {MathJax.Hub.Config({SVG: {font: \"STIX-Web\"}});}\n",
              "        if (typeof require !== 'undefined') {\n",
              "        require.undef(\"plotly\");\n",
              "        requirejs.config({\n",
              "            paths: {\n",
              "                'plotly': ['https://cdn.plot.ly/plotly-latest.min']\n",
              "            }\n",
              "        });\n",
              "        require(['plotly'], function(Plotly) {\n",
              "            window._Plotly = Plotly;\n",
              "        });\n",
              "        }\n",
              "        </script>\n",
              "        "
            ]
          },
          "metadata": {
            "tags": []
          }
        },
        {
          "output_type": "stream",
          "text": [
            "#### TAREFA 02 - CALCULADORA Python v2.0  ####\n",
            "#### Entre com os valores e aguarde os resultados com gráficos #### \n",
            "_\n",
            "Constantes:\n",
            "8.841941282883075e-12\n",
            "1.2566370614359173e-06\n",
            "_\n"
          ],
          "name": "stdout"
        }
      ]
    },
    {
      "cell_type": "markdown",
      "metadata": {
        "id": "QtN8XZXsK4-c",
        "colab_type": "text"
      },
      "source": [
        "#Entrada dos parametros"
      ]
    },
    {
      "cell_type": "code",
      "metadata": {
        "id": "3wjKXjJDLBLD",
        "colab_type": "code",
        "colab": {}
      },
      "source": [
        "\n",
        "###Entrada dos parametros iniciais (Permissividade, Permeabilidade e a Condutância)\n",
        "\n",
        "#Permissividade do meio= sigma\n",
        "#Permeabilidade relativa=m_r\n",
        "#Permesividade relativa= e_r\n",
        "\n",
        "sigma = float(input('Entre com o valor da condutância do meio: '))\n",
        "mu_r = float(input ('Entre com o valor da permeabilidade relativa do meio: '))\n",
        "e_r = float(input ('Entre com o valor da permesividade relativa do meio: '))"
      ],
      "execution_count": 0,
      "outputs": []
    },
    {
      "cell_type": "code",
      "metadata": {
        "id": "w4WpB1w0Dg_l",
        "colab_type": "code",
        "colab": {}
      },
      "source": [
        "type(mu_r)"
      ],
      "execution_count": 0,
      "outputs": []
    },
    {
      "cell_type": "code",
      "metadata": {
        "id": "PgLjPEcbhuGF",
        "colab_type": "code",
        "colab": {}
      },
      "source": [
        "## Calculo da permeabilidade e permisividade do meio;\n",
        "\n",
        "mu=mu_r*mu_0\n",
        "e=(e_r*e_0)\n",
        "\n",
        "## Calculo do material condutor, quase condutor e dieletrico em forma de gráfico\n",
        "#f_0 = frequencia de corte\n",
        "\n",
        "f_0=(sigma/(2*pi*e))\n",
        "\n",
        "#frequencia de corte meio condutor \n",
        "f_max=f_0/100\n",
        "\n",
        "#frequencia de corte do meio dieletrico\n",
        "f_min=f_0*100\n",
        "\n",
        "print('_')\n",
        "\n",
        "#frequencia do corte do meio quase condutor\n",
        "print('frequencia de corte inferior')\n",
        "print(f_0/100);\n",
        "print('frequencia de corte superior')\n",
        "print(f_0*100);\n"
      ],
      "execution_count": 0,
      "outputs": []
    },
    {
      "cell_type": "code",
      "metadata": {
        "id": "4AvvTW6vTc-g",
        "colab_type": "code",
        "colab": {}
      },
      "source": [
        "##Intervalo dos Graficos de frequencias\n",
        "\n",
        "## 1o Faixa de frequencia\n",
        "fx=np.linspace(0,f_min,num=100) #Intervalo de valor de X\n",
        "fy=np.linspace(1,1,num=100) #Intervalo de valor de Y\n",
        "\n",
        "#Faixa de frequência para meio quase condutor f0/100<f<100f0\n",
        "z=f_min\n",
        "fx2=np.linspace(z,f_max,num=100)\n",
        "fy2=np.linspace(2,2,num=100)\n",
        "\n",
        "#Faixa de frequência para meio dielétrico f>=100*f0\n",
        "fx3 = np.linspace(f_max,1.5*f_max,num=200)\n",
        "fy3 = np.linspace(3,3,num=200)\n",
        "\n",
        "#PLOTAGEM GRÁFICO MEIO CONDUTOR\n",
        "\n",
        "plt.figure(1) #Primeira Janela\n",
        "plt.subplot(2,1,1) # Cria a área do primeiro gráfico\n",
        "plt.title(\"Classificação do Meio Graficamente\") #Título do gráfico\n",
        "plt.xlabel(\"Frequência\") #Rótulo do eixo X\n",
        "plt.ylabel(\"Material\") #Rótulo do eixo Y\n",
        "plt.grid(True) #Ativação das grades do gráfico\n",
        "plt.plot(fx,fy,'r-',label=\"Meio Condutor\") #Plotagem do gráfico\n",
        "plt.legend(loc=2) #Legenda\n",
        "\n",
        "#PLOTAGEM GRÁFICO MEIO QUASE CONDUTOR\n",
        "\n",
        "plt.subplot(2,1,2) # Cria a área do segundo gráfico\n",
        "plt.grid(True) #Ativação das grades do gráfico\n",
        "plt.xlabel(\"Frequência\") #Rótulo do eixo X\n",
        "plt.ylabel(\"Material\") #Rótulo do eixo Y\n",
        "plt.plot(fx2,fy2,'b-',label=\"Meio Quase Condutor\") #Plotagem do gráfico\n",
        "plt.legend(loc=2) # Legenda\n",
        "\n",
        "#PLOTAGEM GRÁFICO MEIO DIELÉTRICO\n",
        "\n",
        "plt.subplot(2,1,2) # Cria a área do segundo gráfico\n",
        "plt.grid(True) #Ativação das grades do gráfico\n",
        "plt.xlabel(\"Frequência\") #Rótulo do eixo X\n",
        "plt.ylabel(\"Material\") #Rótulo do eixo Y\n",
        "plt.plot(fx3,fy3,'g-',label=\"Meio Dielétrico\") #Plotagem do gráfico\n",
        "plt.legend(loc=2) # Legenda\n"
      ],
      "execution_count": 0,
      "outputs": []
    },
    {
      "cell_type": "code",
      "metadata": {
        "id": "lF87K_B1iQGt",
        "colab_type": "code",
        "colab": {}
      },
      "source": [
        "\n",
        "#PLOTAGEM GRÁFICO MEIO CONDUTOR\n",
        "\n",
        "plt.figure(1) #Primeira Janela\n",
        "plt.subplot(2,1,1) # Cria a área do primeiro gráfico\n",
        "plt.title(\"Classificação do Meio Graficamente\") #Título do gráfico\n",
        "plt.xlabel(\"Frequência\") #Rótulo do eixo X\n",
        "plt.ylabel(\"Material\") #Rótulo do eixo Y\n",
        "plt.grid(True) #Ativação das grades do gráfico\n",
        "plt.plot(fx,fy,'r-',label=\"Meio Condutor\") #Plotagem do gráfico\n",
        "plt.legend(loc=2) #Legenda\n",
        "\n",
        "#PLOTAGEM GRÁFICO MEIO QUASE CONDUTOR\n",
        "plt.subplot(2,1,2) # Cria a área do segundo gráfico\n",
        "plt.grid(True) #Ativação das grades do gráfico\n",
        "plt.xlabel(\"Frequência\") #Rótulo do eixo X\n",
        "plt.ylabel(\"Material\") #Rótulo do eixo Y\n",
        "plt.plot(fx2,fy2,'b-',label=\"Meio Quase Condutor\") #Plotagem do gráfico\n",
        "plt.legend(loc=2) # Legenda\n",
        "\n",
        "#PLOTAGEM GRÁFICO MEIO DIELÉTRICO\n",
        "plt.subplot(2,1,2) # Cria a área do segundo gráfico\n",
        "plt.grid(True) #Ativação das grades do gráfico\n",
        "plt.xlabel(\"Frequência\") #Rótulo do eixo X\n",
        "plt.ylabel(\"Material\") #Rótulo do eixo Y\n",
        "plt.plot(fx3,fy3,'g-',label=\"Meio Dielétrico\") #Plotagem do gráfico\n",
        "plt.legend(loc=2) # Legenda"
      ],
      "execution_count": 0,
      "outputs": []
    },
    {
      "cell_type": "code",
      "metadata": {
        "id": "cFWxjFsCIUWK",
        "colab_type": "code",
        "colab": {}
      },
      "source": [
        "\n",
        "\n",
        "### ------ leo\n",
        "\n",
        "#PLOTAGEM GRÁFICO MEIO CONDUTOR\n",
        "\n",
        "plt.figure(1) #Primeira Janela\n",
        "plt.subplot(2,1,1) # Cria a área do primeiro gráfico\n",
        "plt.title(\"Classificação do Meio Graficamente\") #Título do gráfico\n",
        "plt.xlabel(\"Frequência\") #Rótulo do eixo X\n",
        "plt.ylabel(\"Material\") #Rótulo do eixo Y\n",
        "plt.grid(True) #Ativação das grades do gráfico\n",
        "plt.plot(x,y,'r-',label=\"Meio Condutor\") #Plotagem do gráfico\n",
        "plt.legend(loc=2) #Legenda\n",
        "\n",
        "#PLOTAGEM GRÁFICO MEIO QUASE CONDUTOR\n",
        "\n",
        "plt.subplot(2,1,2) # Cria a área do segundo gráfico\n",
        "plt.grid(True) #Ativação das grades do gráfico\n",
        "plt.xlabel(\"Frequência\") #Rótulo do eixo X\n",
        "plt.ylabel(\"Material\") #Rótulo do eixo Y\n",
        "plt.plot(x2,y2,'b-',label=\"Meio Quase Condutor\") #Plotagem do gráfico\n",
        "plt.legend(loc=2) # Legenda\n",
        "\n",
        "#PLOTAGEM GRÁFICO MEIO DIELÉTRICO\n",
        "\n",
        "plt.subplot(2,1,2) # Cria a área do segundo gráfico\n",
        "plt.grid(True) #Ativação das grades do gráfico\n",
        "plt.xlabel(\"Frequência\") #Rótulo do eixo X\n",
        "plt.ylabel(\"Material\") #Rótulo do eixo Y\n",
        "plt.plot(x3,y3,'g-',label=\"Meio Dielétrico\") #Plotagem do gráfico\n",
        "plt.legend(loc=2) # Legenda\n",
        "\n",
        "### ------ exemplo\n",
        "\n",
        "\n",
        "#Gráfico usando apenas marcadores\n",
        "trace1 = go.Scatter(x = ['Janeiro', 'Fevereiro', 'Março', 'Abril', 'Maio'],\n",
        "                    y = [10, 9, 11, 8, 12],\n",
        "                    mode = 'lines',\n",
        "                    name = 'Gráfico com linhas tracejadas',\n",
        "                    line = {'color': '#ee5253',\n",
        "                            'dash': 'dash'})\n",
        "\n",
        "# Gráfico de apenas linhas\n",
        "trace2 = go.Scatter(x = ['Janeiro', 'Fevereiro', 'Março', 'Abril', 'Maio'],\n",
        "                    y = [11, 12, 13, 14, 15],\n",
        "                    mode = 'lines',\n",
        "                    name = 'Gráfico com linha pontilhada',\n",
        "                    line = {'color': '#341f97',\n",
        "                            'dash': 'dot'})\n",
        "data = [trace1, trace2]\n",
        "py.iplot(data)\n"
      ],
      "execution_count": 0,
      "outputs": []
    },
    {
      "cell_type": "code",
      "metadata": {
        "id": "8cI5P5huIyRm",
        "colab_type": "code",
        "colab": {}
      },
      "source": [
        "## 1o Faixa de frequencia\n",
        "f = [f_max/1.2:f_max/10^3:f_max-1]\n",
        "#a=f_max/1.2\n",
        "#b=f_max/10^3\n",
        "#c=f_max-1\n",
        "\n",
        "p = -f\n",
        "m =  f\n",
        "z = p + m + 2\n",
        "\n",
        "subplot(1,2,1);\n",
        "plot(f, z,'b', 'LineWidth' , 5)\n",
        "\n",
        "\n",
        "title( 'Classificao do Meio' )\n",
        "xlim( [ f_max/1.2 f_max*1.2 ] )\n",
        "ylim( [ .5 3 ] )\n",
        "xlabel( 'Hz' )\n",
        " \n",
        " \n",
        " ## 2o Faixa de frequencia\n",
        "f = f_max:f_max/10^3:f_max*1.2\n",
        "p = -f;\n",
        "m =  f;\n",
        "z = p + m + 2\n",
        "plot(f, z,'r', 'LineWidth' , 5)\n",
        "legend( 'Meio Condutor' , 'Meio quase Condutor' )\n",
        "\n",
        " \n",
        "## 3o Faixa de frequencia\n",
        "f =f_min/1.0005:f_max/10:f_min;\n",
        "p = -f;\n",
        "m =  f;\n",
        "z = p + m + 2;\n",
        "subplot(1,2,2);\n",
        "plot(f ,z,'r', 'LineWidth' , 5);\n",
        "title( 'Classificao do Meio' );\n",
        "xlim( [ f_min/1.0005 f_min*1.0005 ] );\n",
        "ylim( [ .5 3 ] );\n",
        "xlabel( 'Hz' );\n",
        "\n",
        " \n"
      ],
      "execution_count": 0,
      "outputs": []
    },
    {
      "cell_type": "code",
      "metadata": {
        "id": "R4Nta3weEl3k",
        "colab_type": "code",
        "colab": {}
      },
      "source": [
        "## 1o Faixa de frequencia\n",
        "f = f_max/1.2:f_max/10^3:f_max-1;\n",
        "p = -f\n",
        "m =  f\n",
        "z = p + m + 2;\n",
        "subplot(1,2,1);\n",
        "plot(f, z,'b', 'LineWidth' , 5)\n",
        "hold on\n",
        "grid on;\n",
        "title( 'Classificao do Meio' )\n",
        "xlim( [ f_max/1.2 f_max*1.2 ] )\n",
        "ylim( [ .5 3 ] )\n",
        "xlabel( 'Hz' )"
      ],
      "execution_count": 0,
      "outputs": []
    },
    {
      "cell_type": "code",
      "metadata": {
        "id": "OWjgS9LJhkXj",
        "colab_type": "code",
        "colab": {}
      },
      "source": [
        "## Grafico do condutor\n",
        "\n",
        "f = f_min:f_max/10^3:f_min*1.0005; %Amostras\n",
        "p = -f;\n",
        "m =  f;\n",
        "z = p + m + 2;\n",
        "plot(f,z,'m','LineWidth' , 5);\n",
        "legend( 'Meio quase Condutor','Meio Dieletrico' );\n",
        "hold off\n",
        "\n",
        "## Calculo do Gamma \n",
        "figure\n",
        "for f = 1:10^3:10^6\n",
        "   gamma=sqrt(i*2*pi*f*mu*(sigma+i*2*pi*f*e));\n",
        "   alfa(f)=real(gamma);\n",
        "   beta(f)=imag(gamma);\n",
        "end\n",
        "f = 1:10^3:10^6;\n",
        "\n",
        "## Grafico do fator de atenuacao x frequencia\n",
        "subplot(1,2,1);\n",
        "plot(f, alfa(f), 'LineWidth' , 2);%%% era 2\n",
        "title( 'Fator de Atenuacao' );\n",
        "grid on\n",
        "xlabel( 'Hz' );\n",
        "\n",
        "## Grafico do fator de fase x Frequencia\n",
        "subplot(1,2,2)\n",
        "plot(f, beta(f), 'LineWidth' , 2) %%% era 2\n",
        "title( 'Fator de Fase' );\n",
        "grid on\n",
        "xlabel( 'Hz' );\n",
        "\n",
        "## Calculo da Impedencia Intrinseca \n",
        "for f=[1:10^3:10^6]\n",
        "ene_0(f)= sqrt((i*2*pi*f*mu)/(sigma+i*2*pi*f*e));\n",
        "ene(f)=abs(ene_0(f));\n",
        "end\n",
        "f=[1:10^3:10^6];\n",
        "\n",
        "## Grafico da Impedencia Intrinseca x Frequencia\n",
        "figure, plot(f, ene(f), 'LineWidth' , 2)\n",
        "title('Impedancia Intrinseca')\n",
        "xlabel( 'f(Hz)')\n",
        "ylabel ('R(Ohms)')\n",
        "grid on\n",
        "\n",
        "## Calculo da Velocidade de Fase\n",
        "for f=1:10^3:10^6\n",
        "gamma = sqrt(i*2*pi*f*mu*(sigma+i*2*pi*f*e));\n",
        "beta(f) = imag(gamma);\n",
        "Vp(f) = 2*pi*f/beta(f);\n",
        "end\n",
        "f=[1:10^3:10^6];\n",
        "\n",
        "##Grafico da velocidade de fase x Frequencia\n",
        "figure, plot (f, Vp(f),  'LineWidth' , 2)\n",
        "title('Velocidade de Fase')\n",
        "xlabel( 'f(Hz)')\n",
        "ylabel ('Vp(m/s)')\n",
        "grid on\n",
        "\n",
        "## Calculo da Velocidade de deslocamento   \n",
        "for f = 1:10^3:10^6\n",
        "ene_0(f) = sqrt((i*2*pi*f*mu)/(sigma+i*2*pi*f*e));\n",
        "ang(f) = angle(ene_0(f));\n",
        "Ve(f) = 2*cos(ang(f))/(e*abs(ene_0(f))+mu/abs(ene_0(f)));\n",
        "end\n",
        "f=[1:10^3:10^6];\n",
        "\n",
        "##Grafico da Velocidade de deslocamento x Frequencia\n",
        "figure, plot(f, Ve(f), 'LineWidth' , 2);\n",
        "title('Velocidade de Deslocamento')\n",
        "xlabel( 'f(Hz)')\n",
        "ylabel ('Ve(m/s)')\n",
        "grid on\n",
        "\n",
        "## Calculo da Velocidade de Grupo\n",
        " for f = 1:10^3:10^6\n",
        " gamma = sqrt(i*2*pi*f*mu*(sigma+i*2*pi*f*e));\n",
        " Vg(f) = imag((2*gamma)/(-4)*pi*f*mu*e+i*mu*sigma);\n",
        " end\n",
        "f = 1:10^3:10^6;\n",
        "\n",
        "## Grafico da Velocidade de Grupo x Frequencia\n",
        "figure, plot(f, Vg(f), 'LineWidth' , 2)\n",
        "title ('Velocidade de Grupo')\n",
        "xlabel( 'f(Hz)')\n",
        "ylabel ('Vg(m/s)')\n",
        "grid on\n",
        "\n",
        "## Calculo da Dispersao do meio\n",
        " for f = 1:10^3:10^6\n",
        " gamma = sqrt(i*2*pi*f*mu*(sigma+i*2*pi*f*e));\n",
        " Vg(f) = imag((2*gamma)/(-4)*pi*f*mu*e+i*mu*sigma);\n",
        " beta(f) = imag(gamma);\n",
        " Vp(f) = 2*pi*(f)/beta(f);\n",
        " Dm(f) = Vp(f)/Vg(f);\n",
        " end\n",
        "Dm(f) = Vp(f)/Vg(f);\n",
        "f = 1:10^3:10^6;\n",
        "\n",
        "## Grafico da Dispersao do meio x Frequencia\n",
        "figure, semilogx(f, Dm(f),  'LineWidth' , 2);\n",
        "grid on\n",
        "title ('Dispersao do Meio')\n",
        "xlabel( 'f(Hz)')\n",
        "\n",
        "\n",
        "## Calculo da Penetracao da onda\n",
        "for f = 10^4:1000:10^8;\n",
        "gamma = sqrt(i*2*pi*f*mu*(sigma+i*2*pi*f*e));\n",
        "qsi(f) = -log(0.707)/(real(gamma));\n",
        "end\n",
        "f = 10^4:1000:10^8;\n",
        "\n",
        "## Grafico da Penetracao da onda x Frequencia\n",
        "figure, semilogx(f, qsi(f))\n",
        "title ('Penetracao da onda')\n",
        "xlabel( 'f(Hz)')\n",
        "ylabel ('Distancia(m)')\n",
        "xlim( [ 10^4 10^11 ] )\n",
        "grid on\n",
        "\n",
        "###Fim. :D "
      ],
      "execution_count": 0,
      "outputs": []
    },
    {
      "cell_type": "code",
      "metadata": {
        "id": "dUSxivCvglRm",
        "colab_type": "code",
        "colab": {}
      },
      "source": [
        ""
      ],
      "execution_count": 0,
      "outputs": []
    },
    {
      "cell_type": "markdown",
      "metadata": {
        "id": "J7t3xcWKgkJi",
        "colab_type": "text"
      },
      "source": [
        "# New Section"
      ]
    },
    {
      "cell_type": "code",
      "metadata": {
        "id": "XMGVic3M3uml",
        "colab_type": "code",
        "colab": {}
      },
      "source": [
        ""
      ],
      "execution_count": 0,
      "outputs": []
    }
  ]
}